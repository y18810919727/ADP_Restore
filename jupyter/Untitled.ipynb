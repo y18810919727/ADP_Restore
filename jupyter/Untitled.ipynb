{
 "cells": [
  {
   "cell_type": "code",
   "execution_count": 1,
   "metadata": {},
   "outputs": [
    {
     "name": "stderr",
     "output_type": "stream",
     "text": [
      "Clipping input data to the valid range for imshow with RGB data ([0..1] for floats or [0..255] for integers).\n",
      "Clipping input data to the valid range for imshow with RGB data ([0..1] for floats or [0..255] for integers).\n"
     ]
    }
   ],
   "source": [
    "#!/usr/bin/python\n",
    "# -*- coding:utf8 -*-\n",
    "import numpy as np\n",
    "import math\n",
    "import os\n",
    "import json\n",
    "\n",
    "import torch\n",
    "from torch.nn.functional import  conv2d\n",
    "from PIL import Image\n",
    "from matplotlib.pyplot import imshow\n",
    "import matplotlib.pyplot as plt\n",
    "import numpy as np\n",
    "import os\n",
    "\n",
    "\n",
    "def showim(img):\n",
    "    plt.figure()\n",
    "    imshow(np.asarray(img))\n",
    "    #plt.show()\n",
    "import h5py\n",
    "data_path = '../data/tool_data/train/7train.h5'\n",
    "f = h5py.File(data_path, 'r')\n",
    "# N,H,W,C\n",
    "data = f['data'].value\n",
    "label = f['label'].value\n",
    "f.close()\n",
    "for i in range(0,data.shape[0]):\n",
    "    if i>10:\n",
    "        break\n",
    "    data_img = data[i]\n",
    "    label_img = label[i]\n",
    "    merge_img = np.hstack((data_img, label_img))\n",
    "    showim(merge_img)\n"
   ]
  },
  {
   "cell_type": "code",
   "execution_count": 1,
   "metadata": {},
   "outputs": [],
   "source": [
    "import h5py\n",
    "import numpy as np\n",
    "import math\n",
    "import os\n",
    "import json\n",
    "\n",
    "import torch\n",
    "from torch.nn.functional import  conv2d\n",
    "from PIL import Image\n",
    "from matplotlib.pyplot import imshow\n",
    "import matplotlib.pyplot as plt\n",
    "import numpy as np\n",
    "import os\n",
    "data_path = '../data/tool_data/train/7train.h5'\n",
    "f = h5py.File(data_path, 'r')\n",
    "# N,H,W,C\n",
    "data = f['data'].value\n",
    "label = f['label'].value\n",
    "f.close()\n",
    "data_img = data[0]\n",
    "plt.imshow(data_img) # 显示图片\n",
    "plt.axis('off') # 不显示坐标轴\n",
    "\n",
    "# save\n",
    "# 适用于保存任何 matplotlib 画出的图像，相当于一个 screencapture\n",
    "plt.savefig('1.png')"
   ]
  },
  {
   "cell_type": "code",
   "execution_count": 6,
   "metadata": {},
   "outputs": [
    {
     "name": "stderr",
     "output_type": "stream",
     "text": [
      "WARNING:root:Lossy conversion from float32 to uint8. Range [0, 1]. Convert image to uint8 prior to saving to suppress this warning.\n"
     ]
    }
   ],
   "source": [
    "from scipy import misc\n",
    "import imageio\n",
    "imageio.imsave('img_new_sz.png', data[0])"
   ]
  },
  {
   "cell_type": "code",
   "execution_count": 5,
   "metadata": {},
   "outputs": [],
   "source": [
    "import imageio"
   ]
  },
  {
   "cell_type": "code",
   "execution_count": 9,
   "metadata": {},
   "outputs": [
    {
     "name": "stderr",
     "output_type": "stream",
     "text": [
      "WARNING:root:Lossy conversion from float32 to uint8. Range [0, 1]. Convert image to uint8 prior to saving to suppress this warning.\n"
     ]
    },
    {
     "name": "stdout",
     "output_type": "stream",
     "text": [
      "(63, 63, 3)\n"
     ]
    }
   ],
   "source": [
    "imageio.imsave('img_new_sz.png', label[0])\n",
    "print(data[0].shape)"
   ]
  },
  {
   "cell_type": "code",
   "execution_count": 11,
   "metadata": {},
   "outputs": [
    {
     "data": {
      "text/plain": [
       "(63, 3, 63)"
      ]
     },
     "execution_count": 11,
     "metadata": {},
     "output_type": "execute_result"
    }
   ],
   "source": [
    "data[0].transpose(1,2,0).shape"
   ]
  },
  {
   "cell_type": "code",
   "execution_count": 1,
   "metadata": {},
   "outputs": [
    {
     "name": "stderr",
     "output_type": "stream",
     "text": [
      "/root/anaconda3/lib/python3.6/site-packages/h5py/_hl/dataset.py:313: H5pyDeprecationWarning: dataset.value has been deprecated. Use dataset[()] instead.\n",
      "  \"Use dataset[()] instead.\", H5pyDeprecationWarning)\n"
     ]
    }
   ],
   "source": [
    "#!/usr/bin/python\n",
    "# -*- coding:utf8 -*-\n",
    "import numpy as np\n",
    "import math\n",
    "import os\n",
    "import json\n",
    "\n",
    "import torch\n",
    "from torch.nn.functional import  conv2d\n",
    "from PIL import Image\n",
    "from matplotlib.pyplot import imshow\n",
    "import matplotlib.pyplot as plt\n",
    "import numpy as np\n",
    "import os\n",
    "\n",
    "\n",
    "def showim(img):\n",
    "    plt.figure()\n",
    "    imshow(np.asarray(img))\n",
    "    #plt.show()\n",
    "import h5py\n",
    "data_path = '../data/validation/validation.h5'\n",
    "f = h5py.File(data_path, 'r')\n",
    "# N,H,W,C\n",
    "data = f['data'].value\n",
    "label = f['label'].value\n",
    "f.close()\n",
    "for i in range(0,data.shape[0]):\n",
    "    if i>10:\n",
    "        break\n",
    "    data_img = data[i]\n",
    "    label_img = label[i]\n",
    "    merge_img = np.hstack((data_img, label_img))\n",
    "    showim(merge_img)"
   ]
  },
  {
   "cell_type": "code",
   "execution_count": 3,
   "metadata": {},
   "outputs": [
    {
     "data": {
      "text/plain": [
       "(160, 63, 63, 3)"
      ]
     },
     "execution_count": 3,
     "metadata": {},
     "output_type": "execute_result"
    }
   ],
   "source": [
    "data.shape"
   ]
  },
  {
   "cell_type": "code",
   "execution_count": null,
   "metadata": {},
   "outputs": [],
   "source": []
  }
 ],
 "metadata": {
  "kernelspec": {
   "display_name": "Python [conda env:anaconda3]",
   "language": "python",
   "name": "conda-env-anaconda3-py"
  },
  "language_info": {
   "codemirror_mode": {
    "name": "ipython",
    "version": 3
   },
   "file_extension": ".py",
   "mimetype": "text/x-python",
   "name": "python",
   "nbconvert_exporter": "python",
   "pygments_lexer": "ipython3",
   "version": "3.6.8"
  }
 },
 "nbformat": 4,
 "nbformat_minor": 2
}
