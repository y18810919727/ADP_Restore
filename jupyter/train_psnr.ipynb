{
 "cells": [
  {
   "cell_type": "code",
   "execution_count": 5,
   "metadata": {},
   "outputs": [],
   "source": [
    "import os\n",
    "import sys\n",
    "import numpy as np\n",
    "sys.path.append('..')\n",
    "from util import psnr_cal\n",
    "from adp.img_generator import ImageGenerator\n",
    "train_dir = '../data/train/'\n"
   ]
  },
  {
   "cell_type": "code",
   "execution_count": 6,
   "metadata": {},
   "outputs": [
    {
     "name": "stdout",
     "output_type": "stream",
     "text": [
      "file_index:0, data_index:0, file_name:43train.h5\n"
     ]
    }
   ],
   "source": [
    "img_generator = ImageGenerator(train_dir=train_dir, shuffle=False)\n",
    "print(img_generator)"
   ]
  },
  {
   "cell_type": "code",
   "execution_count": 9,
   "metadata": {},
   "outputs": [
    {
     "name": "stdout",
     "output_type": "stream",
     "text": [
      "51train.h5 0\n",
      "33train.h5 0\n",
      "74train.h5 1\n",
      "9train.h5 1\n",
      "23train.h5 1\n",
      "14train.h5 9\n",
      "50train.h5 9\n",
      "15train.h5 9\n",
      "41train.h5 9\n",
      "12train.h5 9\n",
      "38train.h5 9\n",
      "48train.h5 9\n",
      "30train.h5 9\n",
      "34train.h5 9\n",
      "44train.h5 9\n",
      "22train.h5 9\n",
      "42train.h5 9\n",
      "11train.h5 9\n",
      "72train.h5 11\n",
      "18train.h5 11\n",
      "27train.h5 11\n",
      "66train.h5 11\n",
      "64train.h5 11\n",
      "40train.h5 15\n",
      "65train.h5 15\n",
      "4train.h5 15\n",
      "75train.h5 15\n",
      "21train.h5 15\n",
      "13train.h5 15\n",
      "32train.h5 15\n",
      "39train.h5 15\n",
      "46train.h5 15\n",
      "55train.h5 15\n",
      "17train.h5 15\n",
      "29train.h5 15\n",
      "37train.h5 15\n",
      "53train.h5 15\n",
      "10train.h5 15\n",
      "56train.h5 15\n",
      "31train.h5 15\n",
      "8train.h5 15\n",
      "7train.h5 15\n",
      "68train.h5 15\n",
      "49train.h5 15\n",
      "62train.h5 15\n",
      "57train.h5 15\n",
      "61train.h5 15\n",
      "26train.h5 15\n",
      "3train.h5 15\n",
      "28train.h5 15\n",
      "20train.h5 15\n",
      "47train.h5 15\n",
      "16train.h5 15\n",
      "0train.h5 15\n",
      "63train.h5 15\n",
      "71train.h5 15\n",
      "1train.h5 15\n",
      "67train.h5 15\n",
      "19train.h5 15\n",
      "35train.h5 15\n",
      "25train.h5 15\n",
      "60train.h5 15\n",
      "5train.h5 15\n",
      "58train.h5 15\n",
      "45train.h5 15\n",
      "54train.h5 15\n",
      "73train.h5 15\n",
      "2train.h5 15\n",
      "52train.h5 15\n",
      "59train.h5 15\n",
      "70train.h5 15\n",
      "24train.h5 15\n",
      "36train.h5 15\n",
      "6train.h5 15\n",
      "69train.h5 15\n",
      "43train.h5 15\n"
     ]
    }
   ],
   "source": [
    "sum_smooth = 0\n",
    "for file_id in range(img_generator.train_max):\n",
    "    name = img_generator.train_file_name[img_generator.file_index]\n",
    "    data, label = img_generator.generate_images(img_generator.data_len)\n",
    "    sum_smooth += np.sum(psnr_cal(data, label, mean=False)>50)\n",
    "    print(name, sum_smooth)"
   ]
  },
  {
   "cell_type": "code",
   "execution_count": 11,
   "metadata": {},
   "outputs": [
    {
     "data": {
      "text/plain": [
       "array([[ 0.83233839,  0.79738936,  0.56883137],\n",
       "       [-1.18732252,  2.42278678, -0.63849638],\n",
       "       [ 0.15346876,  0.53032956,  1.9563853 ],\n",
       "       [ 0.09744651,  1.56734534,  1.02570289],\n",
       "       [-1.90179898,  1.4815237 , -0.06342366],\n",
       "       [ 0.79509039,  1.41499244,  0.43274134],\n",
       "       [ 1.54654918,  1.18655058, -0.96263535],\n",
       "       [ 0.52276432,  0.84071184,  0.0199679 ],\n",
       "       [-0.35334805,  1.65240642,  0.09179267],\n",
       "       [-0.64166888,  0.26719991,  0.12093138]])"
      ]
     },
     "execution_count": 11,
     "metadata": {},
     "output_type": "execute_result"
    }
   ],
   "source": [
    "a = np.random.randn(10,3)\n",
    "a"
   ]
  },
  {
   "cell_type": "code",
   "execution_count": 13,
   "metadata": {},
   "outputs": [
    {
     "name": "stdout",
     "output_type": "stream",
     "text": [
      "[ 0.73285304  0.19898929  0.88006121  0.89683158 -0.16123298  0.88094139\n",
      "  0.5901548   0.46114802  0.46361701 -0.08451253]\n"
     ]
    },
    {
     "data": {
      "text/plain": [
       "(array([0, 1, 2, 3, 5, 6, 7, 8]),)"
      ]
     },
     "execution_count": 13,
     "metadata": {},
     "output_type": "execute_result"
    }
   ],
   "source": [
    "print(a.mean(axis=1))\n",
    "np.where(a.mean(axis=1)>0)"
   ]
  },
  {
   "cell_type": "code",
   "execution_count": 14,
   "metadata": {},
   "outputs": [
    {
     "data": {
      "text/plain": [
       "(8, 3)"
      ]
     },
     "execution_count": 14,
     "metadata": {},
     "output_type": "execute_result"
    }
   ],
   "source": [
    "a[np.where(a.mean(axis=1)>0)].shape"
   ]
  },
  {
   "cell_type": "code",
   "execution_count": null,
   "metadata": {},
   "outputs": [],
   "source": []
  }
 ],
 "metadata": {
  "kernelspec": {
   "display_name": "Python [conda env:maml]",
   "language": "python",
   "name": "conda-env-maml-py"
  },
  "language_info": {
   "codemirror_mode": {
    "name": "ipython",
    "version": 3
   },
   "file_extension": ".py",
   "mimetype": "text/x-python",
   "name": "python",
   "nbconvert_exporter": "python",
   "pygments_lexer": "ipython3",
   "version": "3.6.8"
  }
 },
 "nbformat": 4,
 "nbformat_minor": 2
}
